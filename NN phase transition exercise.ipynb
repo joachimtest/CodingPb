{
 "cells": [
  {
   "cell_type": "code",
   "execution_count": 183,
   "metadata": {},
   "outputs": [],
   "source": [
    "import tensorflow as tf\n",
    "import numpy as np\n",
    "import random\n",
    "from tensorflow.python.keras import models\n",
    "from tensorflow.python.keras.layers import Conv2D,MaxPooling2D,Dense,Flatten\n",
    "import matplotlib.pyplot as plt\n"
   ]
  },
  {
   "cell_type": "code",
   "execution_count": 70,
   "metadata": {
    "collapsed": true
   },
   "outputs": [],
   "source": [
    "#load configs \n",
    "C11 = np.load('C1_1.npy')\n",
    "C12 = np.load('C1_3.npy')\n",
    "C151 = np.load('C15_1.npy')\n",
    "C152 = np.load('C15_3.npy')\n",
    "C151 = np.load('C15_1.npy')\n",
    "C152 = np.load('C15_2.npy')\n",
    "C21 = np.load('C2_1.npy')\n",
    "C22 = np.load('C2_3.npy')\n",
    "C251 = np.load('C25_1.npy')\n",
    "C252 = np.load('C25_2.npy')\n",
    "C31 = np.load('C3_1.npy')\n",
    "C32 = np.load('C3_2.npy')\n",
    "C351 = np.load('C35_1.npy')\n",
    "C352 = np.load('C35_2.npy')\n",
    "C41 = np.load('C4_1.npy')\n",
    "C42 = np.load('C4_2.npy')"
   ]
  },
  {
   "cell_type": "code",
   "execution_count": 101,
   "metadata": {
    "collapsed": true
   },
   "outputs": [],
   "source": [
    "def mag_class(S):\n",
    "    #input: a Config S\n",
    "    #output: a class c , c=0 non magnetized , c=1 magnetised\n",
    "    c = int((np.sign(np.abs(np.mean(S))-0.5)+1)/2)\n",
    "    return c"
   ]
  },
  {
   "cell_type": "code",
   "execution_count": 102,
   "metadata": {},
   "outputs": [],
   "source": [
    "Conf_mag_train = [] \n",
    "target_mag_train = []\n",
    "Conf_mag_test = [] \n",
    "target_mag_test = []\n",
    "\n",
    "l1 = np.arange(1000)\n",
    "random.shuffle(l1)\n",
    "idx = 0\n",
    "for i in range(1000):\n",
    "    idx = l1[i]\n",
    "    if i<800:\n",
    "        Conf_mag_train += [(C11[idx]+1)/2] #input 0,1 better for the CNN\n",
    "        target_mag_train += [mag_class(C11[idx])] \n",
    "        Conf_mag_train += [(C12[idx]+1)/2] #input 0,1 better for the CNN\n",
    "        target_mag_train += [mag_class(C12[idx])] \n",
    "    \n",
    "    else:\n",
    "        Conf_mag_test += [(C11[idx]+1)/2] \n",
    "        target_mag_test += [mag_class(C11[idx])] \n",
    "        Conf_mag_test += [(C12[idx]+1)/2] \n",
    "        target_mag_test += [mag_class(C12[idx])] \n",
    "\n",
    "l15 = np.arange(1000)\n",
    "random.shuffle(l15)\n",
    "idx = 0\n",
    "for i in range(1000):\n",
    "    idx = l15[i]\n",
    "    if i<800:\n",
    "        Conf_mag_train += [(C151[idx]+1)/2] \n",
    "        target_mag_train += [mag_class(C151[idx])]\n",
    "        Conf_mag_train += [(C152[idx]+1)/2] \n",
    "        target_mag_train += [mag_class(C152[idx])]\n",
    "       \n",
    "    else:\n",
    "        Conf_mag_test += [(C151[idx]+1)/2] #input 0,1 better for the CNN\n",
    "        target_mag_test += [mag_class(C151[idx])] \n",
    "        Conf_mag_test += [(C152[idx]+1)/2] #input 0,1 better for the CNN\n",
    "        target_mag_test += [mag_class(C152[idx])] \n",
    "        \n",
    "l3 = np.arange(1000)\n",
    "random.shuffle(l3)\n",
    "idx = 0\n",
    "for i in range(1000):\n",
    "    idx = l3[i]\n",
    "    if i<800:\n",
    "        Conf_mag_train += [(C31[idx]+1)/2] #input 0,1 better for the CNN\n",
    "        target_mag_train += [mag_class(C31[idx])]\n",
    "        \n",
    "    else:\n",
    "        Conf_mag_test += [(C31[idx]+1)/2] \n",
    "        target_mag_test += [mag_class(C31[idx])] \n",
    "        \n",
    "\n",
    "l35 = np.arange(1000)\n",
    "random.shuffle(l35)\n",
    "idx = 0\n",
    "for i in range(1000):\n",
    "    idx = l35[i]\n",
    "    if i<800:\n",
    "        Conf_mag_train += [(C351[idx]+1)/2] #input 0,1 better for the CNN\n",
    "        target_mag_train += [mag_class(C351[idx])]\n",
    "        \n",
    "    else:\n",
    "        Conf_mag_test += [(C351[idx]+1)/2] \n",
    "        target_mag_test += [mag_class(C351[idx])]\n",
    "\n",
    "    \n",
    "l4 = np.arange(1000)\n",
    "random.shuffle(l4)\n",
    "idx = 0\n",
    "for i in range(1000):\n",
    "    idx = l4[i]\n",
    "    if i<800:\n",
    "        Conf_mag_train += [(C41[idx]+1)/2] #input 0,1 better for the CNN\n",
    "        target_mag_train += [mag_class(C41[idx])] \n",
    "        \n",
    "    else:\n",
    "        Conf_mag_test += [(C41[idx]+1)/2] \n",
    "        target_mag_test += [mag_class(C41[idx])]         \n",
    "\n",
    "for i in range(1000):\n",
    "    Conf_mag_test += [(C21[i]+1)/2] \n",
    "    target_mag_test += [mag_class(C21[i])]\n",
    "    \n",
    "    Conf_mag_test += [(C22[i]+1)/2] \n",
    "    target_mag_test += [mag_class(C22[i])]\n",
    "    \n",
    "    Conf_mag_test += [(C251[i]+1)/2] \n",
    "    target_mag_test += [mag_class(C251[i])] \n",
    "    \n",
    "    Conf_mag_test += [(C252[i]+1)/2] \n",
    "    target_mag_test += [mag_class(C252[i])]\n",
    "\n",
    "#debug type pb\n",
    "Conf_mag_train = np.array(Conf_mag_train)\n",
    "target_mag_train = np.array(target_mag_train)\n",
    "\n",
    "\n",
    "\n",
    "Conf_mag_test = np.array(Conf_mag_test)\n",
    "target_mag_test = np.array(target_mag_test)\n",
    "\n",
    "#shapping for the CNN \n",
    "Conf_mag_train = Conf_mag_train.reshape(Conf_mag_train.shape[0], 40, 40, 1)\n",
    "Conf_mag_test = Conf_mag_test.reshape(Conf_mag_test.shape[0], 40, 40, 1)\n",
    "\n",
    "\n"
   ]
  },
  {
   "cell_type": "code",
   "execution_count": null,
   "metadata": {},
   "outputs": [],
   "source": []
  },
  {
   "cell_type": "code",
   "execution_count": 211,
   "metadata": {},
   "outputs": [],
   "source": [
    "model1 = models.Sequential() \n",
    "model1.add(Conv2D(4,kernel_size=(4,4), input_shape=(40,40,1)))\n",
    "model1.add(MaxPooling2D(pool_size=(4,4)))\n",
    "model1.add(Flatten())\n",
    "model1.add(Dense(4, activation='relu'))\n",
    "model1.add(Dense(1, activation='sigmoid'))\n"
   ]
  },
  {
   "cell_type": "code",
   "execution_count": 212,
   "metadata": {},
   "outputs": [
    {
     "name": "stdout",
     "output_type": "stream",
     "text": [
      "_________________________________________________________________\n",
      "Layer (type)                 Output Shape              Param #   \n",
      "=================================================================\n",
      "conv2d_22 (Conv2D)           (None, 37, 37, 4)         68        \n",
      "_________________________________________________________________\n",
      "max_pooling2d_21 (MaxPooling (None, 9, 9, 4)           0         \n",
      "_________________________________________________________________\n",
      "flatten_21 (Flatten)         (None, 324)               0         \n",
      "_________________________________________________________________\n",
      "dense_37 (Dense)             (None, 4)                 1300      \n",
      "_________________________________________________________________\n",
      "dense_38 (Dense)             (None, 1)                 5         \n",
      "=================================================================\n",
      "Total params: 1,373\n",
      "Trainable params: 1,373\n",
      "Non-trainable params: 0\n",
      "_________________________________________________________________\n"
     ]
    }
   ],
   "source": [
    "model1.summary()"
   ]
  },
  {
   "cell_type": "code",
   "execution_count": 213,
   "metadata": {},
   "outputs": [
    {
     "name": "stdout",
     "output_type": "stream",
     "text": [
      "Train on 5600 samples, validate on 5600 samples\n",
      "Epoch 1/5\n",
      "5600/5600 [==============================]5600/5600 [==============================] - 3s 512us/step - loss: 0.3578 - acc: 0.8954 - val_loss: 0.3243 - val_acc: 0.9566\n",
      "\n",
      "Epoch 2/5\n",
      "5600/5600 [==============================]5600/5600 [==============================] - 2s 361us/step - loss: 0.3122 - acc: 0.9693 - val_loss: 0.3003 - val_acc: 0.9764\n",
      "\n",
      "Epoch 3/5\n",
      "5600/5600 [==============================]5600/5600 [==============================] - 2s 358us/step - loss: 0.2919 - acc: 0.9854 - val_loss: 0.2842 - val_acc: 0.9927\n",
      "\n",
      "Epoch 4/5\n",
      "5600/5600 [==============================]5600/5600 [==============================] - 2s 361us/step - loss: 0.2773 - acc: 0.9902 - val_loss: 0.2696 - val_acc: 0.9943\n",
      "\n",
      "Epoch 5/5\n",
      "5600/5600 [==============================]5600/5600 [==============================] - 2s 361us/step - loss: 0.2631 - acc: 0.9930 - val_loss: 0.2559 - val_acc: 0.9963\n",
      "\n",
      "5400/5400 [==============================]5400/5400 [==============================] - 1s 211us/step\n",
      "\n"
     ]
    }
   ],
   "source": [
    "model1.compile(optimizer='adam',\n",
    "              loss='binary_crossentropy',\n",
    "              metrics=['accuracy'])  \n",
    "\n",
    "history = model1.fit(Conf_mag_train,target_mag_train,batch_size=100,epochs=5,shuffle=True,\n",
    "                    validation_data=(Conf_mag_train,target_mag_train))\n",
    "score = model1.evaluate(Conf_mag_test, target_mag_test)"
   ]
  },
  {
   "cell_type": "code",
   "execution_count": 106,
   "metadata": {},
   "outputs": [
    {
     "name": "stdout",
     "output_type": "stream",
     "text": [
      "_________________________________________________________________\n",
      "Layer (type)                 Output Shape              Param #   \n",
      "=================================================================\n",
      "conv2d_15 (Conv2D)           (None, 37, 37, 2)         34        \n",
      "_________________________________________________________________\n",
      "max_pooling2d_15 (MaxPooling (None, 9, 9, 2)           0         \n",
      "_________________________________________________________________\n",
      "flatten_15 (Flatten)         (None, 162)               0         \n",
      "_________________________________________________________________\n",
      "dense_27 (Dense)             (None, 4)                 652       \n",
      "_________________________________________________________________\n",
      "dense_28 (Dense)             (None, 1)                 5         \n",
      "=================================================================\n",
      "Total params: 691\n",
      "Trainable params: 691\n",
      "Non-trainable params: 0\n",
      "_________________________________________________________________\n"
     ]
    }
   ],
   "source": [
    "model2 = models.Sequential() \n",
    "model2.add(Conv2D(2,kernel_size=(4,4), input_shape=(40,40,1)))\n",
    "model2.add(MaxPooling2D(pool_size=(4,4)))\n",
    "model2.add(Flatten())\n",
    "model2.add(Dense(4, activation='relu'))\n",
    "model2.add(Dense(1, activation='sigmoid'))\n",
    "model2.summary()"
   ]
  },
  {
   "cell_type": "code",
   "execution_count": 112,
   "metadata": {},
   "outputs": [
    {
     "name": "stdout",
     "output_type": "stream",
     "text": [
      "Train on 5600 samples, validate on 5600 samples\n",
      "Epoch 1/5\n",
      "5600/5600 [==============================]5600/5600 [==============================] - 2s 403us/step - loss: 0.5068 - acc: 0.7584 - val_loss: 0.2703 - val_acc: 0.9045\n",
      "\n",
      "Epoch 2/5\n",
      "5600/5600 [==============================]5600/5600 [==============================] - 2s 343us/step - loss: 0.1817 - acc: 0.9613 - val_loss: 0.1245 - val_acc: 0.9800\n",
      "\n",
      "Epoch 3/5\n",
      "5600/5600 [==============================]5600/5600 [==============================] - 2s 340us/step - loss: 0.0970 - acc: 0.9829 - val_loss: 0.0743 - val_acc: 0.9838\n",
      "\n",
      "Epoch 4/5\n",
      "5600/5600 [==============================]5600/5600 [==============================] - 2s 346us/step - loss: 0.0629 - acc: 0.9845 - val_loss: 0.0539 - val_acc: 0.9850 ETA: 0s - loss: 0.0734\n",
      "\n",
      "Epoch 5/5\n",
      "5600/5600 [==============================]5600/5600 [==============================] - 2s 344us/step - loss: 0.0470 - acc: 0.9861 - val_loss: 0.0408 - val_acc: 0.9889\n",
      "\n",
      "5400/5400 [==============================]5400/5400 [==============================] - 1s 182us/step\n",
      "\n"
     ]
    }
   ],
   "source": [
    "model2.compile(optimizer='adam',\n",
    "              loss='binary_crossentropy',\n",
    "              metrics=['accuracy'])  \n",
    "\n",
    "history = model2.fit(Conf_mag_train,target_mag_train,batch_size=100,epochs=5,shuffle=True,\n",
    "                    validation_data=(Conf_mag_train,target_mag_train))\n",
    "score = model2.evaluate(Conf_mag_test, target_mag_test)"
   ]
  },
  {
   "cell_type": "code",
   "execution_count": 116,
   "metadata": {},
   "outputs": [
    {
     "name": "stdout",
     "output_type": "stream",
     "text": [
      "_________________________________________________________________\n",
      "Layer (type)                 Output Shape              Param #   \n",
      "=================================================================\n",
      "conv2d_16 (Conv2D)           (None, 37, 37, 2)         34        \n",
      "_________________________________________________________________\n",
      "max_pooling2d_16 (MaxPooling (None, 9, 9, 2)           0         \n",
      "_________________________________________________________________\n",
      "flatten_16 (Flatten)         (None, 162)               0         \n",
      "_________________________________________________________________\n",
      "dense_29 (Dense)             (None, 2)                 326       \n",
      "_________________________________________________________________\n",
      "dense_30 (Dense)             (None, 1)                 3         \n",
      "=================================================================\n",
      "Total params: 363\n",
      "Trainable params: 363\n",
      "Non-trainable params: 0\n",
      "_________________________________________________________________\n"
     ]
    }
   ],
   "source": [
    "model3 = models.Sequential() \n",
    "model3.add(Conv2D(2,kernel_size=(4,4), input_shape=(40,40,1)))\n",
    "model3.add(MaxPooling2D(pool_size=(4,4)))\n",
    "model3.add(Flatten())\n",
    "model3.add(Dense(2, activation='relu'))\n",
    "model3.add(Dense(1, activation='sigmoid'))\n",
    "model3.summary()"
   ]
  },
  {
   "cell_type": "code",
   "execution_count": 117,
   "metadata": {},
   "outputs": [
    {
     "name": "stdout",
     "output_type": "stream",
     "text": [
      "Train on 5600 samples, validate on 5600 samples\n",
      "Epoch 1/5\n",
      "5600/5600 [==============================]5600/5600 [==============================] - 2s 432us/step - loss: 0.6672 - acc: 0.6882 - val_loss: 0.6040 - val_acc: 0.7104\n",
      "\n",
      "Epoch 2/5\n",
      "5600/5600 [==============================]5600/5600 [==============================] - 2s 382us/step - loss: 0.5337 - acc: 0.8523 - val_loss: 0.4728 - val_acc: 0.9493\n",
      "\n",
      "Epoch 3/5\n",
      "5600/5600 [==============================]5600/5600 [==============================] - 2s 352us/step - loss: 0.4372 - acc: 0.9693 - val_loss: 0.4043 - val_acc: 0.9811 ETA: 0s - loss: 0.4499 - acc\n",
      "\n",
      "Epoch 4/5\n",
      "5600/5600 [==============================]5600/5600 [==============================] - 2s 350us/step - loss: 0.3792 - acc: 0.9836 - val_loss: 0.3563 - val_acc: 0.9807\n",
      "\n",
      "Epoch 5/5\n",
      "5600/5600 [==============================]5600/5600 [==============================] - 2s 348us/step - loss: 0.3394 - acc: 0.9900 - val_loss: 0.3251 - val_acc: 0.9934\n",
      "\n",
      "5400/5400 [==============================]5400/5400 [==============================] - 1s 183us/step\n",
      "\n"
     ]
    }
   ],
   "source": [
    "model3.compile(optimizer='adam',\n",
    "              loss='binary_crossentropy',\n",
    "              metrics=['accuracy'])  \n",
    "\n",
    "history = model3.fit(Conf_mag_train,target_mag_train,batch_size=100,epochs=5,shuffle=True,\n",
    "                    validation_data=(Conf_mag_train,target_mag_train))\n",
    "score = model3.evaluate(Conf_mag_test, target_mag_test)"
   ]
  },
  {
   "cell_type": "code",
   "execution_count": null,
   "metadata": {
    "collapsed": true
   },
   "outputs": [],
   "source": [
    "#the model 3  seems to having the best compromise between the number of params and accuracy vs epoch"
   ]
  },
  {
   "cell_type": "code",
   "execution_count": 107,
   "metadata": {
    "collapsed": true
   },
   "outputs": [],
   "source": [
    "C1 = []\n",
    "C15 =[]\n",
    "C2 = []\n",
    "C25=[]\n",
    "C3 = []\n",
    "C35 = []\n",
    "C4 = []\n",
    "T1 = []\n",
    "T15 =[]\n",
    "T2 = []\n",
    "T25=[]\n",
    "T3 = []\n",
    "T35 = []\n",
    "T4 = []\n",
    "\n",
    "for i in range(500):\n",
    "    C1 =C1+ [(C11[i+500]+1)/2]+[(C12[i+500]+1)/2]\n",
    "    T1 = T1 + [mag_class(C11[i+500])]+[mag_class(C12[i+500])]\n",
    "    C15 =C15+ [(C151[i+500]+1)/2]+[(C152[i+500]+1)/2]\n",
    "    T15 = T15 + [mag_class(C151[i+500])]+[mag_class(C152[i+500])]\n",
    "    C2 = C2+ [(C21[i+500]+1)/2]+[(C22[i+500]+1)/2]\n",
    "    T2 = T2 + [mag_class(C21[i+500])]+[mag_class(C22[i+500])]\n",
    "    C25=C25+ [(C251[i+500]+1)/2]+[(C252[i+500]+1)/2]\n",
    "    T25= T25 + [mag_class(C251[i+500])]+[mag_class(C252[i+500])]\n",
    "    C3 = C3+ [(C31[i+500]+1)/2]+[(C32[i+500]+1)/2]\n",
    "    T3 = T3 + [mag_class(C31[i+500])]+[mag_class(C32[i+500])]\n",
    "    C35 = C35 + [(C351[i+500]+1)/2]+[(C352[i+500]+1)/2]\n",
    "    T35 = T35 + [mag_class(C351[i+500])]+[mag_class(C352[i+500])]\n",
    "    C4 = C4+ [(C41[i+500]+1)/2]+[(C42[i+500]+1)/2]\n",
    "    T4 = T4 + [mag_class(C41[i+500])]+[mag_class(C42[i+500])]\n",
    "    \n",
    "\n",
    "C1 = np.array(C1)\n",
    "T1 = np.array(T1)\n",
    "C15 = np.array(C15)\n",
    "T15 = np.array(T15)\n",
    "C2 = np.array(C2)\n",
    "T2 = np.array(T2)\n",
    "C25 = np.array(C25)\n",
    "T25 = np.array(T25)\n",
    "C3 = np.array(C3)\n",
    "T3 = np.array(T3)\n",
    "C35 = np.array(C35)\n",
    "T35 = np.array(T35)\n",
    "C4 = np.array(C4)\n",
    "T4 = np.array(T4)\n",
    "\n",
    "C1 = C1.reshape(C1.shape[0], 40, 40, 1)\n",
    "C15 = C15.reshape(C15.shape[0], 40, 40, 1)\n",
    "C2 = C2.reshape(C2.shape[0], 40, 40, 1)\n",
    "C25 = C25.reshape(C25.shape[0], 40, 40, 1)\n",
    "C3 = C3.reshape(C3.shape[0], 40, 40, 1)\n",
    "C35 = C35.reshape(C35.shape[0], 40, 40, 1)\n",
    "C4 = C4.reshape(C4.shape[0], 40, 40, 1)\n",
    "\n"
   ]
  },
  {
   "cell_type": "code",
   "execution_count": 217,
   "metadata": {
    "collapsed": true
   },
   "outputs": [],
   "source": [
    "OutputT1m3 = model3.predict(C1),\n",
    "OutputT15m3 = model3.predict(C15)\n",
    "OutputT2m3 = model3.predict(C2)\n",
    "OutputT25m3 = model3.predict(C25)\n",
    "OutputT3m3 = model3.predict(C3)\n",
    "OutputT35m3 = model3.predict(C35)\n",
    "OutputT4m3 = model3.predict(C4)\n",
    "\n"
   ]
  },
  {
   "cell_type": "code",
   "execution_count": 218,
   "metadata": {},
   "outputs": [],
   "source": [
    "\n",
    "p1m3 = np.mean(OutputT1m3)\n",
    "p15m3 = np.mean(OutputT15m3)\n",
    "p2m3 = np.mean(OutputT2m3)\n",
    "p25m3 = np.mean(OutputT25m3)\n",
    "p3m3 = np.mean(OutputT3m3)\n",
    "p35m3 = np.mean(OutputT35m3)\n",
    "p4m3 = np.mean(OutputT4m3)\n",
    "\n",
    "\n",
    "T  = np.array([1,1.5,2,2.5,3,3.5,4])\n",
    "Pm3 = np.array([p1m3,p15m3,p2m3,p25m3,p3m3,p35m3,p4m3])\n",
    "\n",
    "#std\n",
    "s = 1/np.sqrt(1000)\n",
    "stdm3 = s*1.96*np.array([np.std(OutputT1m3),np.std(OutputT15m3),np.std(OutputT2m3),np.std(OutputT25m3),np.std(OutputT3m3),np.std(OutputT35m3),np.std(OutputT4m3)])\n"
   ]
  },
  {
   "cell_type": "code",
   "execution_count": null,
   "metadata": {},
   "outputs": [],
   "source": []
  },
  {
   "cell_type": "code",
   "execution_count": 209,
   "metadata": {},
   "outputs": [
    {
     "data": {
      "image/png": "[encoded data removed]",
      "text/plain": [
       "<Figure size 432x360 with 1 Axes>"
      ]
     },
     "metadata": {},
     "output_type": "display_data"
    }
   ],
   "source": [
    "def interpolm3(x):\n",
    "    return p2m3+(x-2)*2*(p25m3-p2m3)\n",
    "\n",
    "xabs = np.linspace(2,2.5,100)\n",
    "yim3 = interpolm3(xabs)\n",
    "\n",
    "Tcm3 = xabs[np.argmin((yim3-0.5)**2)]\n",
    "Tc = 2.269\n",
    "fig = plt.figure(figsize = (6, 5))\n",
    "plt.gcf().subplots_adjust(left = 0.1, bottom = 0.1,\n",
    "                       right = 0.9, top = 0.9, wspace =0.6, hspace = 0.3)\n",
    "\n",
    "\n",
    "axes = fig.add_subplot(1,1,1)\n",
    "axes.set_xlabel('Temperature')\n",
    "axes.set_ylabel('Output mean')\n",
    "axes.axvline(Tcm3,color=\"orange\",linewidth=2.0, label = \"Tcm3 = 2.4\")\n",
    "axes.axvline(Tc,color=\"cyan\",linewidth=2.0, label = \"Tc = 2.269\")\n",
    "axes.set_title('Model3 answer in function of T')\n",
    "axes.errorbar(T,Pm3,stdm3,ecolor = 'red', elinewidth = 2, capthick = 8)\n",
    "axes.legend()\n",
    "\n",
    "plt.show()"
   ]
  },
  {
   "cell_type": "code",
   "execution_count": null,
   "metadata": {},
   "outputs": [],
   "source": []
  },
  {
   "cell_type": "code",
   "execution_count": null,
   "metadata": {
    "collapsed": true
   },
   "outputs": [],
   "source": []
  }
 ],
 "metadata": {
  "kernelspec": {
   "display_name": "Python 3",
   "language": "python",
   "name": "python3"
  },
  "language_info": {
   "codemirror_mode": {
    "name": "ipython",
    "version": 3
   },
   "file_extension": ".py",
   "mimetype": "text/x-python",
   "name": "python",
   "nbconvert_exporter": "python",
   "pygments_lexer": "ipython3",
   "version": "3.6.3"
  }
 },
 "nbformat": 4,
 "nbformat_minor": 2
}
